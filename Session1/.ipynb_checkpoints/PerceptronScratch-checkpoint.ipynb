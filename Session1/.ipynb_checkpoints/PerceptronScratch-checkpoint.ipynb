{
 "cells": [
  {
   "cell_type": "code",
   "execution_count": 1,
   "metadata": {
    "collapsed": true
   },
   "outputs": [],
   "source": [
    "class Perceptron_byHand:\n",
    "    def __init__(self, N, eta=0.2):\n",
    "        self.W = np.zeros(N)\n",
    "        self.eta = eta\n",
    "        \n",
    "    def step(self, value):\n",
    "        if value >= 0:\n",
    "            return 1\n",
    "        else:\n",
    "            return -1\n",
    "        \n",
    "    def forward_prop(self, x_input):\n",
    "        return np.dot(self.W, x_input)\n",
    "        \n",
    "    def getScore(self, X, Y):\n",
    "        cnt = 0\n",
    "        for key, val in enumerate(X):\n",
    "            if self.step( self.forward_prop(val) ) != Y[key]:\n",
    "                cnt +=1 \n",
    "        return 1 - cnt/float(len(X))\n",
    "            \n",
    "    \n",
    "    def fit(self, X, Y, iterations=0):\n",
    "        if not iterations:\n",
    "            iterations = len(Y)\n",
    "        for i in range(iterations):\n",
    "            ind = np.random.randint(0, len(Y)) #Pick randomly a training example index\n",
    "            prediction = self.step( self.forward_prop(X[ind]) ) \n",
    "            if prediction != Y[ind]:  # We need to update the weights, because we made an error\n",
    "                error = Y[ind] - prediction\n",
    "                self.W = self.W + self.eta * Y[ind] * X[ind]\n",
    "        print (self.getScore(X,Y))\n",
    "                \n",
    "    def predict(self, X):\n",
    "        return self.step( self.forward_prop(X[ind]) )\n",
    "        \n",
    "    def visualize(self, X, Y):\n",
    "        plt.plot(X[:, 1][Y==1], X[:, 2][Y==1], 'ro')\n",
    "        plt.plot(X[:, 1][Y==-1], X[:, 2][Y==-1], 'bo')\n",
    "        plt.xlim([-1, 1])\n",
    "        plt.ylim([-1, 1])\n",
    "        x = np.linspace(-1,1)\n",
    "        a, b = -self.W[1]/self.W[2], -self.W[0]/self.W[2]\n",
    "        plt.plot(x, a*x+b, 'k-')      "
   ]
  },
  {
   "cell_type": "code",
   "execution_count": 11,
   "metadata": {},
   "outputs": [],
   "source": [
    "import random, matplotlib.pyplot as plt\n",
    "import numpy as np\n",
    "%matplotlib inline\n",
    "\n",
    "# Generates some data\n",
    "def generate_points(N, V):\n",
    "    X = []\n",
    "    for i in range(N):\n",
    "        x1,x2 = [random.uniform(-1, 1) for i in range(2)]\n",
    "        x = np.array([1,x1,x2])\n",
    "        s = int(np.sign(V.T.dot(x)))\n",
    "        X.append((x, s))\n",
    "    return X\n",
    "xA,yA,xB,yB = [random.uniform(-1, 1) for i in range(4)]\n",
    "V = np.array([xB*yA-xA*yB, yB-yA, xA-xB])\n",
    "X = generate_points(100, V)\n",
    "Z, Y  = np.array([i[0] for i in X]), np.array([i[1] for i in X])\n",
    "# Y[Y==-1] = 0"
   ]
  },
  {
   "cell_type": "code",
   "execution_count": 12,
   "metadata": {},
   "outputs": [
    {
     "name": "stdout",
     "output_type": "stream",
     "text": [
      "Epoch: 0\n",
      "0.98\n",
      "Epoch: 1\n",
      "0.98\n",
      "Epoch: 2\n",
      "0.99\n",
      "Epoch: 3\n",
      "0.99\n",
      "Epoch: 4\n",
      "0.98\n",
      "Epoch: 5\n",
      "1.0\n",
      "Epoch: 6\n",
      "1.0\n",
      "Epoch: 7\n",
      "1.0\n",
      "Epoch: 8\n",
      "1.0\n",
      "Epoch: 9\n",
      "1.0\n"
     ]
    },
    {
     "data": {
      "text/plain": [
       "<matplotlib.figure.Figure at 0x10d2ee1d0>"
      ]
     },
     "metadata": {},
     "output_type": "display_data"
    },
    {
     "data": {
      "text/plain": [
       "<matplotlib.figure.Figure at 0x10d2ee198>"
      ]
     },
     "metadata": {},
     "output_type": "display_data"
    },
    {
     "data": {
      "text/plain": [
       "<matplotlib.figure.Figure at 0x10d2ee208>"
      ]
     },
     "metadata": {},
     "output_type": "display_data"
    },
    {
     "data": {
      "text/plain": [
       "<matplotlib.figure.Figure at 0x10d2f4358>"
      ]
     },
     "metadata": {},
     "output_type": "display_data"
    },
    {
     "data": {
      "text/plain": [
       "<matplotlib.figure.Figure at 0x10d2f4390>"
      ]
     },
     "metadata": {},
     "output_type": "display_data"
    },
    {
     "data": {
      "text/plain": [
       "<matplotlib.figure.Figure at 0x10d2f4cc0>"
      ]
     },
     "metadata": {},
     "output_type": "display_data"
    },
    {
     "data": {
      "text/plain": [
       "<matplotlib.figure.Figure at 0x10d3030b8>"
      ]
     },
     "metadata": {},
     "output_type": "display_data"
    },
    {
     "data": {
      "text/plain": [
       "<matplotlib.figure.Figure at 0x10d303a90>"
      ]
     },
     "metadata": {},
     "output_type": "display_data"
    },
    {
     "data": {
      "text/plain": [
       "<matplotlib.figure.Figure at 0x10d3094a8>"
      ]
     },
     "metadata": {},
     "output_type": "display_data"
    },
    {
     "data": {
      "image/png": "[encoded data removed]",
      "text/plain": [
       "<matplotlib.figure.Figure at 0x10d309e80>"
      ]
     },
     "metadata": {},
     "output_type": "display_data"
    }
   ],
   "source": [
    "clf = Perceptron_byHand(3, 0.2)\n",
    "for i in range(0, 10):\n",
    "    print (\"Epoch: %d\"%i,)\n",
    "    clf.fit(Z,Y)\n",
    "    fig = plt.figure(figsize=(5,5))\n",
    "clf.visualize(Z, Y)"
   ]
  },
  {
   "cell_type": "code",
   "execution_count": null,
   "metadata": {
    "collapsed": true
   },
   "outputs": [],
   "source": []
  }
 ],
 "metadata": {
  "kernelspec": {
   "display_name": "Python 3",
   "language": "python",
   "name": "python3"
  },
  "language_info": {
   "codemirror_mode": {
    "name": "ipython",
    "version": 3
   },
   "file_extension": ".py",
   "mimetype": "text/x-python",
   "name": "python",
   "nbconvert_exporter": "python",
   "pygments_lexer": "ipython3",
   "version": "3.6.2"
  }
 },
 "nbformat": 4,
 "nbformat_minor": 2
}
