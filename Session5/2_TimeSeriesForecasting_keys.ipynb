{
 "cells": [
  {
   "cell_type": "markdown",
   "metadata": {},
   "source": [
    "# Time Series Forecasting: Application of Regression\n",
    "\n",
    "A time series is a series of data points indexed (or listed or graphed) in time order. Most commonly, a time series is a sequence taken at successive equally spaced points in time. Thus it is a sequence of discrete-time data.\n",
    "\n",
    "In this course you seen various data till date. A time series dataset is different. Time series adds an explicit order dependence between observations: a time dimension. This additional dimension is both a constraint and a structure that provides a source of additional information.\n",
    "\n",
    "Time series forecasting is the use of a model to predict future values of a time series based on previously observed values.  In order to do that, first one needs to understand or model the stochastic mechanisms that gives rise to an observed series. Then this model can be used to predict or forecast the future values of a series based on the history of that series.\n",
    "\n",
    "## Modelling timeseries forecasting as a machine learning regression task\n",
    "\n",
    "Assume we have a timeseries: $x_1, x_2, x_3, \\ldots, x_N$\n",
    "\n",
    "We have observed $T$ values, and wish to predict future $T'$ values. We want to model the relation:\n",
    "$$ \\underbrace{(x_{T+1}, x_{T+2}, \\ldots, x_{T+T'})}_{T'\\text{ is forecast horizon}} = r(\\underbrace{x_1, x_2, \\ldots, x_T}_{T\\text{ is history}}) $$\n",
    "\n",
    "$T$ is called *history* and $T'$ is called *forecast horizon*.\n",
    "\n",
    "### Constructing a regression matrix\n",
    "\n",
    "Standard approach is to consider a moving window over the timeseries to construct following matrix:\n",
    "$$ X = \\overbrace{\\begin{bmatrix}\n",
    "       x_1 & x_2 & \\dots & x_T \\\\           \n",
    "       x_2 & x_3 & \\dots & x_{T+1} \\\\ \n",
    "       \\vdots & \\vdots & \\ddots & \\vdots \\\\\n",
    "       x_{N-T-T'+1} & x_{N-T-T'+2} & \\dots & x_{N-T'}\n",
    "       \\end{bmatrix}}^{input}\n",
    "    \\quad\n",
    "   Y = \\overbrace{\\begin{bmatrix}\n",
    "       x_{T+1} & x_{T+2} & \\dots & x_{T+T'} \\\\           \n",
    "       x_{T+2} & x_{T+3} & \\dots & x_{T+T'+1} \\\\ \n",
    "       \\vdots & \\vdots & \\ddots & \\vdots \\\\\n",
    "       x_{N-T'+1} & x_{N-T'+2} & \\dots & x_{N}\n",
    "       \\end{bmatrix}}^{output}\n",
    "$$\n",
    "\n",
    "**We will learn the *muti-input multi-output (MIMO)* regression relation: $Y = r(X)$**\n",
    "\n",
    "## Objective\n",
    "Objectives of this notebook are:\n",
    "1. Converting a time series into a regression matrix using Python Pandas library.\n",
    "2. Visualization of time series data.\n",
    "3. Forecasting time series data by using Python Scikit Learn Regression modules.\n",
    "\n",
    "For questions, comments and suggestions, please contact parantapa[dot]goswami[at]viseo[dot]com\n",
    "\n",
    "## Import basic libraries\n",
    "Initially we require:\n",
    "1. pandas: to store data efficiently\n",
    "2. numpy: to matrix operations\n",
    "3. matplotlib.pyplot: for data visualization"
   ]
  },
  {
   "cell_type": "code",
   "execution_count": 1,
   "metadata": {
    "collapsed": true
   },
   "outputs": [],
   "source": [
    "# Write code to import required libraries\n",
    "import numpy as np \n",
    "import pandas as pd \n",
    "import matplotlib.pyplot as plt \n",
    "\n",
    "# For visualzing plots in this notebook\n",
    "%matplotlib inline"
   ]
  },
  {
   "cell_type": "markdown",
   "metadata": {},
   "source": [
    "## Polish Weather Data\n",
    "\n",
    "Polish Weather dataset contains 7 weather related measurements in the Warshaw area, taken between 1999 and 2004. The readings are taken daily.\n",
    "\n",
    "### Importing the data\n",
    "The data is provided in the file **`weatherdata.csv`**. Use `read_csv()` module from pandas to import the data."
   ]
  },
  {
   "cell_type": "code",
   "execution_count": 91,
   "metadata": {},
   "outputs": [
    {
     "data": {
      "text/html": [
       "<div>\n",
       "<style>\n",
       "    .dataframe thead tr:only-child th {\n",
       "        text-align: right;\n",
       "    }\n",
       "\n",
       "    .dataframe thead th {\n",
       "        text-align: left;\n",
       "    }\n",
       "\n",
       "    .dataframe tbody tr th {\n",
       "        vertical-align: top;\n",
       "    }\n",
       "</style>\n",
       "<table border=\"1\" class=\"dataframe\">\n",
       "  <thead>\n",
       "    <tr style=\"text-align: right;\">\n",
       "      <th></th>\n",
       "      <th>Date</th>\n",
       "      <th>MaxTemp</th>\n",
       "      <th>MinTemp</th>\n",
       "      <th>Precipitation</th>\n",
       "      <th>Wind</th>\n",
       "      <th>RelativeHumidity</th>\n",
       "      <th>Solar</th>\n",
       "    </tr>\n",
       "  </thead>\n",
       "  <tbody>\n",
       "    <tr>\n",
       "      <th>0</th>\n",
       "      <td>1/1/1999</td>\n",
       "      <td>1.415</td>\n",
       "      <td>-1.450</td>\n",
       "      <td>0.085831</td>\n",
       "      <td>3.997154</td>\n",
       "      <td>0.829051</td>\n",
       "      <td>2.906607</td>\n",
       "    </tr>\n",
       "    <tr>\n",
       "      <th>1</th>\n",
       "      <td>1/2/1999</td>\n",
       "      <td>1.173</td>\n",
       "      <td>-1.301</td>\n",
       "      <td>0.209427</td>\n",
       "      <td>3.214572</td>\n",
       "      <td>0.887717</td>\n",
       "      <td>1.401356</td>\n",
       "    </tr>\n",
       "    <tr>\n",
       "      <th>2</th>\n",
       "      <td>1/3/1999</td>\n",
       "      <td>1.917</td>\n",
       "      <td>-0.437</td>\n",
       "      <td>0.724411</td>\n",
       "      <td>2.831413</td>\n",
       "      <td>0.964532</td>\n",
       "      <td>0.720900</td>\n",
       "    </tr>\n",
       "    <tr>\n",
       "      <th>3</th>\n",
       "      <td>1/4/1999</td>\n",
       "      <td>2.154</td>\n",
       "      <td>0.376</td>\n",
       "      <td>0.727844</td>\n",
       "      <td>3.179892</td>\n",
       "      <td>0.960443</td>\n",
       "      <td>0.854831</td>\n",
       "    </tr>\n",
       "    <tr>\n",
       "      <th>4</th>\n",
       "      <td>1/5/1999</td>\n",
       "      <td>9.606</td>\n",
       "      <td>2.250</td>\n",
       "      <td>2.554322</td>\n",
       "      <td>5.794692</td>\n",
       "      <td>0.956723</td>\n",
       "      <td>0.537300</td>\n",
       "    </tr>\n",
       "  </tbody>\n",
       "</table>\n",
       "</div>"
      ],
      "text/plain": [
       "       Date  MaxTemp  MinTemp  Precipitation      Wind  RelativeHumidity  \\\n",
       "0  1/1/1999    1.415   -1.450       0.085831  3.997154          0.829051   \n",
       "1  1/2/1999    1.173   -1.301       0.209427  3.214572          0.887717   \n",
       "2  1/3/1999    1.917   -0.437       0.724411  2.831413          0.964532   \n",
       "3  1/4/1999    2.154    0.376       0.727844  3.179892          0.960443   \n",
       "4  1/5/1999    9.606    2.250       2.554322  5.794692          0.956723   \n",
       "\n",
       "      Solar  \n",
       "0  2.906607  \n",
       "1  1.401356  \n",
       "2  0.720900  \n",
       "3  0.854831  \n",
       "4  0.537300  "
      ]
     },
     "execution_count": 91,
     "metadata": {},
     "output_type": "execute_result"
    }
   ],
   "source": [
    "# We start by importing the data using pandas\n",
    "# Hint 1: use \"read_csv\" method, Note that comma (\",\") is the field separator\n",
    "# Hint 2: this data file already includes a header\n",
    "weather = pd.read_csv(\"weatherdata.csv\", sep=\",\") \n",
    "\n",
    "# We sneak peek into the data\n",
    "# Hint: use dataframe \"head\" method with \"n\" parameter\n",
    "weather.head(n=5) "
   ]
  },
  {
   "cell_type": "markdown",
   "metadata": {},
   "source": [
    "### Univariate time series forecasting\n",
    "For the sake of simplicity, we will use only **MaxTemp** variable to perform time series forecasting.\n",
    "\n",
    "Also, we are not interested in the exact time here, but the sequence itself. We ignore the \"Date\", still the indices of the dataframe preserves the order. So, the index values will be considered as time stamps. This will satisfy our requirement and simplify the problem.\n",
    "\n",
    "For this exercise create a new dataframe from the \"MaxTemp\" column."
   ]
  },
  {
   "cell_type": "code",
   "execution_count": 92,
   "metadata": {},
   "outputs": [
    {
     "data": {
      "text/html": [
       "<div>\n",
       "<style>\n",
       "    .dataframe thead tr:only-child th {\n",
       "        text-align: right;\n",
       "    }\n",
       "\n",
       "    .dataframe thead th {\n",
       "        text-align: left;\n",
       "    }\n",
       "\n",
       "    .dataframe tbody tr th {\n",
       "        vertical-align: top;\n",
       "    }\n",
       "</style>\n",
       "<table border=\"1\" class=\"dataframe\">\n",
       "  <thead>\n",
       "    <tr style=\"text-align: right;\">\n",
       "      <th></th>\n",
       "      <th>MaxTemp</th>\n",
       "    </tr>\n",
       "  </thead>\n",
       "  <tbody>\n",
       "    <tr>\n",
       "      <th>0</th>\n",
       "      <td>1.415</td>\n",
       "    </tr>\n",
       "    <tr>\n",
       "      <th>1</th>\n",
       "      <td>1.173</td>\n",
       "    </tr>\n",
       "    <tr>\n",
       "      <th>2</th>\n",
       "      <td>1.917</td>\n",
       "    </tr>\n",
       "    <tr>\n",
       "      <th>3</th>\n",
       "      <td>2.154</td>\n",
       "    </tr>\n",
       "    <tr>\n",
       "      <th>4</th>\n",
       "      <td>9.606</td>\n",
       "    </tr>\n",
       "  </tbody>\n",
       "</table>\n",
       "</div>"
      ],
      "text/plain": [
       "   MaxTemp\n",
       "0    1.415\n",
       "1    1.173\n",
       "2    1.917\n",
       "3    2.154\n",
       "4    9.606"
      ]
     },
     "execution_count": 92,
     "metadata": {},
     "output_type": "execute_result"
    }
   ],
   "source": [
    "# Write code to create a new dataframe from weather\n",
    "# Hint: call \"pandas.DataFrame\" and pass the desired column of weather\n",
    "temperature = pd.DataFrame(weather[\"MaxTemp\"]) \n",
    "\n",
    "# To check if all is good\n",
    "temperature.head()"
   ]
  },
  {
   "cell_type": "markdown",
   "metadata": {},
   "source": [
    "### Visualization\n",
    "\n",
    "A time series is always dependent on time. So, implicitly here we have two variables, `time` and the \"MaxTemp\". You can use `DataFrame.plot.line()` to create a line plot of the time series. Indices will serve as time stamps. "
   ]
  },
  {
   "cell_type": "code",
   "execution_count": 95,
   "metadata": {},
   "outputs": [
    {
     "data": {
      "text/plain": [
       "<matplotlib.axes._subplots.AxesSubplot at 0x7fd896f453c8>"
      ]
     },
     "execution_count": 95,
     "metadata": {},
     "output_type": "execute_result"
    },
    {
     "data": {
      "image/png": "[encoded data removed]",
      "text/plain": [
       "<matplotlib.figure.Figure at 0x7fd896f37240>"
      ]
     },
     "metadata": {},
     "output_type": "display_data"
    }
   ],
   "source": [
    "# Write code to generate a line plot of temperature\n",
    "# Hint: use \"DataFrame.plot.line()\" on our dataframe temperature\n",
    "temperature.plot.line() "
   ]
  },
  {
   "cell_type": "markdown",
   "metadata": {},
   "source": [
    "## Handling time series with Python Pandas\n",
    "\n",
    "Python Pandas library is an efficient tool to work with time series data. Please see [this link](http://pandas.pydata.org/pandas-docs/stable/timeseries.html) for all the detailed functionalities.\n",
    "\n",
    "### Pandas `shift()` method\n",
    "A key method to help transform time series data into a supervised learning problem is the Pandas [**`DataFrame.shift()`**](https://pandas.pydata.org/pandas-docs/stable/generated/pandas.DataFrame.shift.html) method. Given a DataFrame, the `shift()` method can be used to create copies of columns that are pushed forward or pulled back.\n",
    "\n",
    "This is the behavior required to create columns of lag observations as well as columns of forecast observations for a time series dataset in a supervised learning format.\n",
    "\n",
    "**Notes**:\n",
    "1. `shift()` takes a positive integer $k$ to push forward the data $k$ steps (rows of NaN values added to the front)\n",
    "2. `shift()` takes a positive integer $-k$ to pull back the data $k$ steps (rows of NaN values added to the end)"
   ]
  },
  {
   "cell_type": "code",
   "execution_count": 96,
   "metadata": {},
   "outputs": [
    {
     "data": {
      "text/html": [
       "<div>\n",
       "<style>\n",
       "    .dataframe thead tr:only-child th {\n",
       "        text-align: right;\n",
       "    }\n",
       "\n",
       "    .dataframe thead th {\n",
       "        text-align: left;\n",
       "    }\n",
       "\n",
       "    .dataframe tbody tr th {\n",
       "        vertical-align: top;\n",
       "    }\n",
       "</style>\n",
       "<table border=\"1\" class=\"dataframe\">\n",
       "  <thead>\n",
       "    <tr style=\"text-align: right;\">\n",
       "      <th></th>\n",
       "      <th>MaxTemp</th>\n",
       "    </tr>\n",
       "  </thead>\n",
       "  <tbody>\n",
       "    <tr>\n",
       "      <th>0</th>\n",
       "      <td>NaN</td>\n",
       "    </tr>\n",
       "    <tr>\n",
       "      <th>1</th>\n",
       "      <td>1.415</td>\n",
       "    </tr>\n",
       "    <tr>\n",
       "      <th>2</th>\n",
       "      <td>1.173</td>\n",
       "    </tr>\n",
       "    <tr>\n",
       "      <th>3</th>\n",
       "      <td>1.917</td>\n",
       "    </tr>\n",
       "    <tr>\n",
       "      <th>4</th>\n",
       "      <td>2.154</td>\n",
       "    </tr>\n",
       "  </tbody>\n",
       "</table>\n",
       "</div>"
      ],
      "text/plain": [
       "   MaxTemp\n",
       "0      NaN\n",
       "1    1.415\n",
       "2    1.173\n",
       "3    1.917\n",
       "4    2.154"
      ]
     },
     "execution_count": 96,
     "metadata": {},
     "output_type": "execute_result"
    }
   ],
   "source": [
    "# Write code to try \"shift()\" method to push forward the data 1 step\n",
    "# Hint: use head() at the end of youe code to see first lines\n",
    "temperature.shift(1).head() "
   ]
  },
  {
   "cell_type": "code",
   "execution_count": 97,
   "metadata": {},
   "outputs": [
    {
     "data": {
      "text/html": [
       "<div>\n",
       "<style>\n",
       "    .dataframe thead tr:only-child th {\n",
       "        text-align: right;\n",
       "    }\n",
       "\n",
       "    .dataframe thead th {\n",
       "        text-align: left;\n",
       "    }\n",
       "\n",
       "    .dataframe tbody tr th {\n",
       "        vertical-align: top;\n",
       "    }\n",
       "</style>\n",
       "<table border=\"1\" class=\"dataframe\">\n",
       "  <thead>\n",
       "    <tr style=\"text-align: right;\">\n",
       "      <th></th>\n",
       "      <th>MaxTemp</th>\n",
       "    </tr>\n",
       "  </thead>\n",
       "  <tbody>\n",
       "    <tr>\n",
       "      <th>0</th>\n",
       "      <td>1.173</td>\n",
       "    </tr>\n",
       "    <tr>\n",
       "      <th>1</th>\n",
       "      <td>1.917</td>\n",
       "    </tr>\n",
       "    <tr>\n",
       "      <th>2</th>\n",
       "      <td>2.154</td>\n",
       "    </tr>\n",
       "    <tr>\n",
       "      <th>3</th>\n",
       "      <td>9.606</td>\n",
       "    </tr>\n",
       "    <tr>\n",
       "      <th>4</th>\n",
       "      <td>10.347</td>\n",
       "    </tr>\n",
       "  </tbody>\n",
       "</table>\n",
       "</div>"
      ],
      "text/plain": [
       "   MaxTemp\n",
       "0    1.173\n",
       "1    1.917\n",
       "2    2.154\n",
       "3    9.606\n",
       "4   10.347"
      ]
     },
     "execution_count": 97,
     "metadata": {},
     "output_type": "execute_result"
    }
   ],
   "source": [
    "# Write code to try \"shift()\" method to pull back the data 1 step\n",
    "# Hint: use head() at the end of youe code to see first lines\n",
    "temperature.shift(-1).head() "
   ]
  },
  {
   "cell_type": "markdown",
   "metadata": {},
   "source": [
    "**Checkpoint**: Make sure you understand how `shift()` works.\n",
    "\n",
    "### Creating the Regression Matrix\n",
    "Now you will use `shift()` multiple times to create a regression matrix from the `temperature` dataframe.\n",
    "\n",
    "**Step 1**: Create a new empty DataFrame to store the regression matrix."
   ]
  },
  {
   "cell_type": "code",
   "execution_count": 98,
   "metadata": {
    "collapsed": true
   },
   "outputs": [],
   "source": [
    "# Write code to create an empty DataFrame\n",
    "# Hint: \"pandas.DataFrame()\" without any arguments creates an empty DataFrame\n",
    "reg_mat = pd.DataFrame() "
   ]
  },
  {
   "cell_type": "markdown",
   "metadata": {},
   "source": [
    "**Step 2**: Assume the history $T = 5$. So, you have to use `shift()` five times. Each such shift will generate a new column of the regression matrix.\n",
    "\n",
    "Note that you have to maintain the order as shown in the above equations. If we assume that \"t\" is the current time, the history columns of the regression matrix should be in the following order:\n",
    "$$t-4, t-3, t-2, t-1, t$$\n",
    "\n",
    "To get the \"t-i\" column, the time series needs to get **pushed forward i steps**. For each shift, you should store the newly generated column in the `reg_mat` dataframe with column name \"t-i\""
   ]
  },
  {
   "cell_type": "code",
   "execution_count": 100,
   "metadata": {},
   "outputs": [
    {
     "data": {
      "text/html": [
       "<div>\n",
       "<style>\n",
       "    .dataframe thead tr:only-child th {\n",
       "        text-align: right;\n",
       "    }\n",
       "\n",
       "    .dataframe thead th {\n",
       "        text-align: left;\n",
       "    }\n",
       "\n",
       "    .dataframe tbody tr th {\n",
       "        vertical-align: top;\n",
       "    }\n",
       "</style>\n",
       "<table border=\"1\" class=\"dataframe\">\n",
       "  <thead>\n",
       "    <tr style=\"text-align: right;\">\n",
       "      <th></th>\n",
       "      <th>t-4</th>\n",
       "      <th>t-3</th>\n",
       "      <th>t-2</th>\n",
       "      <th>t-1</th>\n",
       "      <th>t</th>\n",
       "    </tr>\n",
       "  </thead>\n",
       "  <tbody>\n",
       "    <tr>\n",
       "      <th>0</th>\n",
       "      <td>NaN</td>\n",
       "      <td>NaN</td>\n",
       "      <td>NaN</td>\n",
       "      <td>NaN</td>\n",
       "      <td>1.415</td>\n",
       "    </tr>\n",
       "    <tr>\n",
       "      <th>1</th>\n",
       "      <td>NaN</td>\n",
       "      <td>NaN</td>\n",
       "      <td>NaN</td>\n",
       "      <td>1.415</td>\n",
       "      <td>1.173</td>\n",
       "    </tr>\n",
       "    <tr>\n",
       "      <th>2</th>\n",
       "      <td>NaN</td>\n",
       "      <td>NaN</td>\n",
       "      <td>1.415</td>\n",
       "      <td>1.173</td>\n",
       "      <td>1.917</td>\n",
       "    </tr>\n",
       "    <tr>\n",
       "      <th>3</th>\n",
       "      <td>NaN</td>\n",
       "      <td>1.415</td>\n",
       "      <td>1.173</td>\n",
       "      <td>1.917</td>\n",
       "      <td>2.154</td>\n",
       "    </tr>\n",
       "    <tr>\n",
       "      <th>4</th>\n",
       "      <td>1.415</td>\n",
       "      <td>1.173</td>\n",
       "      <td>1.917</td>\n",
       "      <td>2.154</td>\n",
       "      <td>9.606</td>\n",
       "    </tr>\n",
       "    <tr>\n",
       "      <th>5</th>\n",
       "      <td>1.173</td>\n",
       "      <td>1.917</td>\n",
       "      <td>2.154</td>\n",
       "      <td>9.606</td>\n",
       "      <td>10.347</td>\n",
       "    </tr>\n",
       "    <tr>\n",
       "      <th>6</th>\n",
       "      <td>1.917</td>\n",
       "      <td>2.154</td>\n",
       "      <td>9.606</td>\n",
       "      <td>10.347</td>\n",
       "      <td>8.263</td>\n",
       "    </tr>\n",
       "  </tbody>\n",
       "</table>\n",
       "</div>"
      ],
      "text/plain": [
       "     t-4    t-3    t-2     t-1       t\n",
       "0    NaN    NaN    NaN     NaN   1.415\n",
       "1    NaN    NaN    NaN   1.415   1.173\n",
       "2    NaN    NaN  1.415   1.173   1.917\n",
       "3    NaN  1.415  1.173   1.917   2.154\n",
       "4  1.415  1.173  1.917   2.154   9.606\n",
       "5  1.173  1.917  2.154   9.606  10.347\n",
       "6  1.917  2.154  9.606  10.347   8.263"
      ]
     },
     "execution_count": 100,
     "metadata": {},
     "output_type": "execute_result"
    }
   ],
   "source": [
    "# Write code to generate columns t-4, t-3, t-2, t-1, t IN THIS ORDER for reg_mat\n",
    "# Hint: you do not need any shift to store the column \"t\"\n",
    "reg_mat[\"t-4\"] = temperature.shift(4) \n",
    "reg_mat[\"t-3\"] = temperature.shift(3) \n",
    "reg_mat[\"t-2\"] = temperature.shift(2) \n",
    "reg_mat[\"t-1\"] = temperature.shift(1) \n",
    "reg_mat[\"t\"] = temperature \n",
    "\n",
    "# To check if all is good\n",
    "reg_mat.head(10)"
   ]
  },
  {
   "cell_type": "markdown",
   "metadata": {},
   "source": [
    "**Observe** how the NaN values are added.\n",
    "\n",
    "**Step 3**: Assume horizon $T' = 2$. This time you have to use `shift()` 2 times in the **other direction**. Again you need to maintain the order. This time the generated columns will be \"t+1\" and \"t+2\". The final ordering of columns of the entire regression matrix should be:\n",
    "$$t-4, t-3, t-2, t-1, t, t+1, t+2$$\n",
    "\n",
    "To get the \"t+i\" column, the time series needs to get **pulled back i steps**. For each shift, you should store the newly generated column in the `reg_mat` dataframe with column name \"t+i\""
   ]
  },
  {
   "cell_type": "code",
   "execution_count": 101,
   "metadata": {},
   "outputs": [
    {
     "data": {
      "text/html": [
       "<div>\n",
       "<style>\n",
       "    .dataframe thead tr:only-child th {\n",
       "        text-align: right;\n",
       "    }\n",
       "\n",
       "    .dataframe thead th {\n",
       "        text-align: left;\n",
       "    }\n",
       "\n",
       "    .dataframe tbody tr th {\n",
       "        vertical-align: top;\n",
       "    }\n",
       "</style>\n",
       "<table border=\"1\" class=\"dataframe\">\n",
       "  <thead>\n",
       "    <tr style=\"text-align: right;\">\n",
       "      <th></th>\n",
       "      <th>t-4</th>\n",
       "      <th>t-3</th>\n",
       "      <th>t-2</th>\n",
       "      <th>t-1</th>\n",
       "      <th>t</th>\n",
       "      <th>t+1</th>\n",
       "      <th>t+2</th>\n",
       "    </tr>\n",
       "  </thead>\n",
       "  <tbody>\n",
       "    <tr>\n",
       "      <th>0</th>\n",
       "      <td>NaN</td>\n",
       "      <td>NaN</td>\n",
       "      <td>NaN</td>\n",
       "      <td>NaN</td>\n",
       "      <td>1.415</td>\n",
       "      <td>1.173</td>\n",
       "      <td>1.917</td>\n",
       "    </tr>\n",
       "    <tr>\n",
       "      <th>1</th>\n",
       "      <td>NaN</td>\n",
       "      <td>NaN</td>\n",
       "      <td>NaN</td>\n",
       "      <td>1.415</td>\n",
       "      <td>1.173</td>\n",
       "      <td>1.917</td>\n",
       "      <td>2.154</td>\n",
       "    </tr>\n",
       "    <tr>\n",
       "      <th>2</th>\n",
       "      <td>NaN</td>\n",
       "      <td>NaN</td>\n",
       "      <td>1.415</td>\n",
       "      <td>1.173</td>\n",
       "      <td>1.917</td>\n",
       "      <td>2.154</td>\n",
       "      <td>9.606</td>\n",
       "    </tr>\n",
       "    <tr>\n",
       "      <th>3</th>\n",
       "      <td>NaN</td>\n",
       "      <td>1.415</td>\n",
       "      <td>1.173</td>\n",
       "      <td>1.917</td>\n",
       "      <td>2.154</td>\n",
       "      <td>9.606</td>\n",
       "      <td>10.347</td>\n",
       "    </tr>\n",
       "    <tr>\n",
       "      <th>4</th>\n",
       "      <td>1.415</td>\n",
       "      <td>1.173</td>\n",
       "      <td>1.917</td>\n",
       "      <td>2.154</td>\n",
       "      <td>9.606</td>\n",
       "      <td>10.347</td>\n",
       "      <td>8.263</td>\n",
       "    </tr>\n",
       "    <tr>\n",
       "      <th>5</th>\n",
       "      <td>1.173</td>\n",
       "      <td>1.917</td>\n",
       "      <td>2.154</td>\n",
       "      <td>9.606</td>\n",
       "      <td>10.347</td>\n",
       "      <td>8.263</td>\n",
       "      <td>4.510</td>\n",
       "    </tr>\n",
       "    <tr>\n",
       "      <th>6</th>\n",
       "      <td>1.917</td>\n",
       "      <td>2.154</td>\n",
       "      <td>9.606</td>\n",
       "      <td>10.347</td>\n",
       "      <td>8.263</td>\n",
       "      <td>4.510</td>\n",
       "      <td>1.495</td>\n",
       "    </tr>\n",
       "  </tbody>\n",
       "</table>\n",
       "</div>"
      ],
      "text/plain": [
       "     t-4    t-3    t-2     t-1       t     t+1     t+2\n",
       "0    NaN    NaN    NaN     NaN   1.415   1.173   1.917\n",
       "1    NaN    NaN    NaN   1.415   1.173   1.917   2.154\n",
       "2    NaN    NaN  1.415   1.173   1.917   2.154   9.606\n",
       "3    NaN  1.415  1.173   1.917   2.154   9.606  10.347\n",
       "4  1.415  1.173  1.917   2.154   9.606  10.347   8.263\n",
       "5  1.173  1.917  2.154   9.606  10.347   8.263   4.510\n",
       "6  1.917  2.154  9.606  10.347   8.263   4.510   1.495"
      ]
     },
     "execution_count": 101,
     "metadata": {},
     "output_type": "execute_result"
    }
   ],
   "source": [
    "# Write code to generate columns t+1, t+2 IN THIS ORDER for reg_mat\n",
    "reg_mat[\"t+1\"]  = temperature.shift(-1) \n",
    "reg_mat[\"t+2\"]  = temperature.shift(-2) \n",
    "\n",
    "# To check if all is good\n",
    "reg_mat.head(10)"
   ]
  },
  {
   "cell_type": "markdown",
   "metadata": {},
   "source": [
    "#### Using a loop\n",
    "\n",
    "Above approach works for a small and known history and horizon. To make it automatic, use a `for` loop.\n",
    "\n",
    "**Notes**:\n",
    "1. While generating the history columns, you have to run the loop backward. As in our above example of history $T = 5$, the loop should run for i = 4 down to i = 1.\n",
    "2. The column \"t\" is the original time series itself.\n",
    "3. While generating the forecast/future columns, the loop should run as usual. As in our exmple of horizon $T' = 2$, the loop should run for i = 1 to i = 2.\n",
    "\n",
    "Use python `range()` method wisely to control the loops. Also you have to generate the column names dynamically. Carefully choose the positive or negative values for `shift()` methods.*"
   ]
  },
  {
   "cell_type": "code",
   "execution_count": 108,
   "metadata": {},
   "outputs": [
    {
     "data": {
      "text/html": [
       "<div>\n",
       "<style>\n",
       "    .dataframe thead tr:only-child th {\n",
       "        text-align: right;\n",
       "    }\n",
       "\n",
       "    .dataframe thead th {\n",
       "        text-align: left;\n",
       "    }\n",
       "\n",
       "    .dataframe tbody tr th {\n",
       "        vertical-align: top;\n",
       "    }\n",
       "</style>\n",
       "<table border=\"1\" class=\"dataframe\">\n",
       "  <thead>\n",
       "    <tr style=\"text-align: right;\">\n",
       "      <th></th>\n",
       "      <th>t-4</th>\n",
       "      <th>t-3</th>\n",
       "      <th>t-2</th>\n",
       "      <th>t-1</th>\n",
       "      <th>t-0</th>\n",
       "      <th>t</th>\n",
       "      <th>t+1</th>\n",
       "      <th>t+2</th>\n",
       "    </tr>\n",
       "  </thead>\n",
       "  <tbody>\n",
       "    <tr>\n",
       "      <th>0</th>\n",
       "      <td>NaN</td>\n",
       "      <td>NaN</td>\n",
       "      <td>NaN</td>\n",
       "      <td>NaN</td>\n",
       "      <td>1.415</td>\n",
       "      <td>1.415</td>\n",
       "      <td>1.173</td>\n",
       "      <td>1.917</td>\n",
       "    </tr>\n",
       "    <tr>\n",
       "      <th>1</th>\n",
       "      <td>NaN</td>\n",
       "      <td>NaN</td>\n",
       "      <td>NaN</td>\n",
       "      <td>1.415</td>\n",
       "      <td>1.173</td>\n",
       "      <td>1.173</td>\n",
       "      <td>1.917</td>\n",
       "      <td>2.154</td>\n",
       "    </tr>\n",
       "    <tr>\n",
       "      <th>2</th>\n",
       "      <td>NaN</td>\n",
       "      <td>NaN</td>\n",
       "      <td>1.415</td>\n",
       "      <td>1.173</td>\n",
       "      <td>1.917</td>\n",
       "      <td>1.917</td>\n",
       "      <td>2.154</td>\n",
       "      <td>9.606</td>\n",
       "    </tr>\n",
       "    <tr>\n",
       "      <th>3</th>\n",
       "      <td>NaN</td>\n",
       "      <td>1.415</td>\n",
       "      <td>1.173</td>\n",
       "      <td>1.917</td>\n",
       "      <td>2.154</td>\n",
       "      <td>2.154</td>\n",
       "      <td>9.606</td>\n",
       "      <td>10.347</td>\n",
       "    </tr>\n",
       "    <tr>\n",
       "      <th>4</th>\n",
       "      <td>1.415</td>\n",
       "      <td>1.173</td>\n",
       "      <td>1.917</td>\n",
       "      <td>2.154</td>\n",
       "      <td>9.606</td>\n",
       "      <td>9.606</td>\n",
       "      <td>10.347</td>\n",
       "      <td>8.263</td>\n",
       "    </tr>\n",
       "    <tr>\n",
       "      <th>5</th>\n",
       "      <td>1.173</td>\n",
       "      <td>1.917</td>\n",
       "      <td>2.154</td>\n",
       "      <td>9.606</td>\n",
       "      <td>10.347</td>\n",
       "      <td>10.347</td>\n",
       "      <td>8.263</td>\n",
       "      <td>4.510</td>\n",
       "    </tr>\n",
       "    <tr>\n",
       "      <th>6</th>\n",
       "      <td>1.917</td>\n",
       "      <td>2.154</td>\n",
       "      <td>9.606</td>\n",
       "      <td>10.347</td>\n",
       "      <td>8.263</td>\n",
       "      <td>8.263</td>\n",
       "      <td>4.510</td>\n",
       "      <td>1.495</td>\n",
       "    </tr>\n",
       "    <tr>\n",
       "      <th>7</th>\n",
       "      <td>2.154</td>\n",
       "      <td>9.606</td>\n",
       "      <td>10.347</td>\n",
       "      <td>8.263</td>\n",
       "      <td>4.510</td>\n",
       "      <td>4.510</td>\n",
       "      <td>1.495</td>\n",
       "      <td>-0.816</td>\n",
       "    </tr>\n",
       "    <tr>\n",
       "      <th>8</th>\n",
       "      <td>9.606</td>\n",
       "      <td>10.347</td>\n",
       "      <td>8.263</td>\n",
       "      <td>4.510</td>\n",
       "      <td>1.495</td>\n",
       "      <td>1.495</td>\n",
       "      <td>-0.816</td>\n",
       "      <td>-1.615</td>\n",
       "    </tr>\n",
       "    <tr>\n",
       "      <th>9</th>\n",
       "      <td>10.347</td>\n",
       "      <td>8.263</td>\n",
       "      <td>4.510</td>\n",
       "      <td>1.495</td>\n",
       "      <td>-0.816</td>\n",
       "      <td>-0.816</td>\n",
       "      <td>-1.615</td>\n",
       "      <td>1.448</td>\n",
       "    </tr>\n",
       "  </tbody>\n",
       "</table>\n",
       "</div>"
      ],
      "text/plain": [
       "      t-4     t-3     t-2     t-1     t-0       t     t+1     t+2\n",
       "0     NaN     NaN     NaN     NaN   1.415   1.415   1.173   1.917\n",
       "1     NaN     NaN     NaN   1.415   1.173   1.173   1.917   2.154\n",
       "2     NaN     NaN   1.415   1.173   1.917   1.917   2.154   9.606\n",
       "3     NaN   1.415   1.173   1.917   2.154   2.154   9.606  10.347\n",
       "4   1.415   1.173   1.917   2.154   9.606   9.606  10.347   8.263\n",
       "5   1.173   1.917   2.154   9.606  10.347  10.347   8.263   4.510\n",
       "6   1.917   2.154   9.606  10.347   8.263   8.263   4.510   1.495\n",
       "7   2.154   9.606  10.347   8.263   4.510   4.510   1.495  -0.816\n",
       "8   9.606  10.347   8.263   4.510   1.495   1.495  -0.816  -1.615\n",
       "9  10.347   8.263   4.510   1.495  -0.816  -0.816  -1.615   1.448"
      ]
     },
     "execution_count": 108,
     "metadata": {},
     "output_type": "execute_result"
    }
   ],
   "source": [
    "history = 5\n",
    "horizon = 2\n",
    "\n",
    "# STEP 1: Create an empty DataFrame\n",
    "reg_mat = pd.DataFrame() \n",
    "\n",
    "# STEP 2: For loop to generate the history columns\n",
    "# Hint 1: use \"reversed()\" method to reverse the output of \"range()\" method\n",
    "# Hint 2: generate column names by adding loop variable i with string \"t-\"\n",
    "for i in reversed(range(history)): \n",
    "    column_name = \"t-\" + str(i) \n",
    "    reg_mat[column_name] = temperature.shift(i) \n",
    "    \n",
    "# Generating the column \"t\"  \n",
    "reg_mat[\"t\"] = temperature\n",
    "\n",
    "# STEP 3: For loop to generate the forecast/future columns\n",
    "# Hint: generate column names by adding loop variable i with string \"t+\"\n",
    "for i in range(1, horizon+1): \n",
    "    column_name = \"t+\" + str(i) \n",
    "    reg_mat[column_name] = temperature.shift(-i) \n",
    "\n",
    "# To check if all is good\n",
    "reg_mat.head(10)"
   ]
  },
  {
   "cell_type": "markdown",
   "metadata": {},
   "source": [
    "#### Handling NaN values\n",
    "\n",
    "We will ignore the rows containing NaN values. Use [**`DataFrame.dropna()`**](http://pandas.pydata.org/pandas-docs/version/0.17.0/generated/pandas.DataFrame.dropna.html) method to do this.\n",
    "\n",
    "You have to reset indices using `DataFrame.reset_index()` method. By setting the attribute `drop` True, it overwrites the old indices. \n",
    "\n",
    "In both the above methods, by setting `inplace` to True, the index reset is done on the dataframe itself, without returning anything."
   ]
  },
  {
   "cell_type": "code",
   "execution_count": 111,
   "metadata": {},
   "outputs": [
    {
     "data": {
      "text/html": [
       "<div>\n",
       "<style>\n",
       "    .dataframe thead tr:only-child th {\n",
       "        text-align: right;\n",
       "    }\n",
       "\n",
       "    .dataframe thead th {\n",
       "        text-align: left;\n",
       "    }\n",
       "\n",
       "    .dataframe tbody tr th {\n",
       "        vertical-align: top;\n",
       "    }\n",
       "</style>\n",
       "<table border=\"1\" class=\"dataframe\">\n",
       "  <thead>\n",
       "    <tr style=\"text-align: right;\">\n",
       "      <th></th>\n",
       "      <th>t-4</th>\n",
       "      <th>t-3</th>\n",
       "      <th>t-2</th>\n",
       "      <th>t-1</th>\n",
       "      <th>t-0</th>\n",
       "      <th>t</th>\n",
       "      <th>t+1</th>\n",
       "      <th>t+2</th>\n",
       "    </tr>\n",
       "  </thead>\n",
       "  <tbody>\n",
       "    <tr>\n",
       "      <th>0</th>\n",
       "      <td>1.415</td>\n",
       "      <td>1.173</td>\n",
       "      <td>1.917</td>\n",
       "      <td>2.154</td>\n",
       "      <td>9.606</td>\n",
       "      <td>9.606</td>\n",
       "      <td>10.347</td>\n",
       "      <td>8.263</td>\n",
       "    </tr>\n",
       "    <tr>\n",
       "      <th>1</th>\n",
       "      <td>1.173</td>\n",
       "      <td>1.917</td>\n",
       "      <td>2.154</td>\n",
       "      <td>9.606</td>\n",
       "      <td>10.347</td>\n",
       "      <td>10.347</td>\n",
       "      <td>8.263</td>\n",
       "      <td>4.510</td>\n",
       "    </tr>\n",
       "    <tr>\n",
       "      <th>2</th>\n",
       "      <td>1.917</td>\n",
       "      <td>2.154</td>\n",
       "      <td>9.606</td>\n",
       "      <td>10.347</td>\n",
       "      <td>8.263</td>\n",
       "      <td>8.263</td>\n",
       "      <td>4.510</td>\n",
       "      <td>1.495</td>\n",
       "    </tr>\n",
       "    <tr>\n",
       "      <th>3</th>\n",
       "      <td>2.154</td>\n",
       "      <td>9.606</td>\n",
       "      <td>10.347</td>\n",
       "      <td>8.263</td>\n",
       "      <td>4.510</td>\n",
       "      <td>4.510</td>\n",
       "      <td>1.495</td>\n",
       "      <td>-0.816</td>\n",
       "    </tr>\n",
       "    <tr>\n",
       "      <th>4</th>\n",
       "      <td>9.606</td>\n",
       "      <td>10.347</td>\n",
       "      <td>8.263</td>\n",
       "      <td>4.510</td>\n",
       "      <td>1.495</td>\n",
       "      <td>1.495</td>\n",
       "      <td>-0.816</td>\n",
       "      <td>-1.615</td>\n",
       "    </tr>\n",
       "    <tr>\n",
       "      <th>5</th>\n",
       "      <td>10.347</td>\n",
       "      <td>8.263</td>\n",
       "      <td>4.510</td>\n",
       "      <td>1.495</td>\n",
       "      <td>-0.816</td>\n",
       "      <td>-0.816</td>\n",
       "      <td>-1.615</td>\n",
       "      <td>1.448</td>\n",
       "    </tr>\n",
       "    <tr>\n",
       "      <th>6</th>\n",
       "      <td>8.263</td>\n",
       "      <td>4.510</td>\n",
       "      <td>1.495</td>\n",
       "      <td>-0.816</td>\n",
       "      <td>-1.615</td>\n",
       "      <td>-1.615</td>\n",
       "      <td>1.448</td>\n",
       "      <td>-0.699</td>\n",
       "    </tr>\n",
       "    <tr>\n",
       "      <th>7</th>\n",
       "      <td>4.510</td>\n",
       "      <td>1.495</td>\n",
       "      <td>-0.816</td>\n",
       "      <td>-1.615</td>\n",
       "      <td>1.448</td>\n",
       "      <td>1.448</td>\n",
       "      <td>-0.699</td>\n",
       "      <td>1.091</td>\n",
       "    </tr>\n",
       "    <tr>\n",
       "      <th>8</th>\n",
       "      <td>1.495</td>\n",
       "      <td>-0.816</td>\n",
       "      <td>-1.615</td>\n",
       "      <td>1.448</td>\n",
       "      <td>-0.699</td>\n",
       "      <td>-0.699</td>\n",
       "      <td>1.091</td>\n",
       "      <td>1.526</td>\n",
       "    </tr>\n",
       "    <tr>\n",
       "      <th>9</th>\n",
       "      <td>-0.816</td>\n",
       "      <td>-1.615</td>\n",
       "      <td>1.448</td>\n",
       "      <td>-0.699</td>\n",
       "      <td>1.091</td>\n",
       "      <td>1.091</td>\n",
       "      <td>1.526</td>\n",
       "      <td>3.067</td>\n",
       "    </tr>\n",
       "  </tbody>\n",
       "</table>\n",
       "</div>"
      ],
      "text/plain": [
       "      t-4     t-3     t-2     t-1     t-0       t     t+1    t+2\n",
       "0   1.415   1.173   1.917   2.154   9.606   9.606  10.347  8.263\n",
       "1   1.173   1.917   2.154   9.606  10.347  10.347   8.263  4.510\n",
       "2   1.917   2.154   9.606  10.347   8.263   8.263   4.510  1.495\n",
       "3   2.154   9.606  10.347   8.263   4.510   4.510   1.495 -0.816\n",
       "4   9.606  10.347   8.263   4.510   1.495   1.495  -0.816 -1.615\n",
       "5  10.347   8.263   4.510   1.495  -0.816  -0.816  -1.615  1.448\n",
       "6   8.263   4.510   1.495  -0.816  -1.615  -1.615   1.448 -0.699\n",
       "7   4.510   1.495  -0.816  -1.615   1.448   1.448  -0.699  1.091\n",
       "8   1.495  -0.816  -1.615   1.448  -0.699  -0.699   1.091  1.526\n",
       "9  -0.816  -1.615   1.448  -0.699   1.091   1.091   1.526  3.067"
      ]
     },
     "execution_count": 111,
     "metadata": {},
     "output_type": "execute_result"
    }
   ],
   "source": [
    "# Write code to drop rows with NaN values from reg_mat inplace\n",
    "reg_mat.dropna(inplace=True) \n",
    "\n",
    "# Write code to reset index of reg_mat inplace, with dropping old indices\n",
    "reg_mat.reset_index(drop=True, inplace=True) \n",
    "\n",
    "# To check if all is good\n",
    "reg_mat.head(10)"
   ]
  },
  {
   "cell_type": "markdown",
   "metadata": {},
   "source": [
    "#### To numpy matrices\n",
    "\n",
    "All machine learning algorithm implementations work efficiently with numpy matrices and arrays. The current format of our data is panda dataframes. Fortunately, pandas provides [**`DataFrame.as_matrix()`**](https://pandas.pydata.org/pandas-docs/stable/generated/pandas.DataFrame.as_matrix.html) method to convert dataframes to numpy arrays."
   ]
  },
  {
   "cell_type": "code",
   "execution_count": 116,
   "metadata": {
    "collapsed": true
   },
   "outputs": [],
   "source": [
    "# Write code to convert entire reg_mat into a numpy matrix\n",
    "reg_mat_numpy = reg_mat.as_matrix() "
   ]
  },
  {
   "cell_type": "markdown",
   "metadata": {},
   "source": [
    "Our goal is to model time series forecasting as a machine learning regression task. It is time to identify the inputs and outputs\n",
    "\n",
    "**Question**: What is your input **`X`** here? What is your output **`y`** here?"
   ]
  },
  {
   "cell_type": "code",
   "execution_count": 118,
   "metadata": {
    "collapsed": true
   },
   "outputs": [],
   "source": [
    "# Write code to cerate input matrix X by selecting correct columns of reg_mat_numpy\n",
    "# Hint: first k columns of a numpy matrix M can be selected by M[:,:k]\n",
    "X = reg_mat_numpy[:, :history] \n",
    "\n",
    "# Write code to cerate output matrix y by selecting correct columns of reg_mat_numpy\n",
    "# Hint: last k columns of a numpy matrix M can be selected by M[:,-k:]\n",
    "y = reg_mat_numpy[:, -horizon:] "
   ]
  },
  {
   "cell_type": "markdown",
   "metadata": {},
   "source": [
    "#### Putting all together\n",
    "\n",
    "To organize everything together and to reuse later, define a method **`regression_matrix`**. This method should accept a dataframe having only one feature, history and horizon. It should then convert the dataframe into two regression matrices, input X and output y."
   ]
  },
  {
   "cell_type": "code",
   "execution_count": 130,
   "metadata": {
    "collapsed": true
   },
   "outputs": [],
   "source": [
    "# Write a function to put everything together\n",
    "\n",
    "# TO DELETE\n",
    "def regression_matrix(df, history, horizon):\n",
    "    reg_mat = pd.DataFrame() \n",
    "\n",
    "    for i in reversed(range(history)):\n",
    "        column_name = \"t-\" + str(i) \n",
    "        reg_mat[column_name] = temperature.shift(i) \n",
    "    \n",
    "    reg_mat[\"t\"] = temperature\n",
    "\n",
    "    for i in range(1, horizon+1): \n",
    "        column_name = \"t+\" + str(i) \n",
    "        reg_mat[column_name] = temperature.shift(-i) \n",
    "        \n",
    "    reg_mat.dropna(inplace=True)\n",
    "    reg_mat.reset_index(drop=True, inplace=True)\n",
    "    \n",
    "    reg_mat_numpy = reg_mat.as_matrix()\n",
    "    \n",
    "    X = reg_mat_numpy[:, :history]\n",
    "    y = reg_mat_numpy[:, -horizon:]\n",
    "    \n",
    "    return X, y"
   ]
  },
  {
   "cell_type": "markdown",
   "metadata": {},
   "source": [
    "## Univariate Time Series Forecasting with Linear Regression\n",
    "\n",
    "Finally, we have all the modules necessary to train a regression model.\n",
    "\n",
    "Forecast horizon is to be fixed in the beginning based on the requirement. We will first try to predict only 1 step in the future, that is we set **`horizon = 1`**. We will set **`history=20`**."
   ]
  },
  {
   "cell_type": "code",
   "execution_count": 144,
   "metadata": {
    "collapsed": true
   },
   "outputs": [],
   "source": [
    "# Write code to generate X and y matrices from dataframe temperature\n",
    "#     Set history to 20 and horizon to 1\n",
    "# Hint: use the method \"regression_matrix\" you just wrote.\n",
    "history, horizon = 20, 1 \n",
    "X, y = regression_matrix(temperature, history, horizon) "
   ]
  },
  {
   "cell_type": "markdown",
   "metadata": {},
   "source": [
    "### Training Set and Test Set\n",
    "\n",
    "A portion of the dataset is to be set aside to be used only for testing. Fortunately `sklearn` provides a [**`train_test_split()`**](http://scikit-learn.org/stable/modules/generated/sklearn.model_selection.train_test_split.html) module to do that. You can specify a ratio for `test_size` parameter. \n",
    "\n",
    "In this exercise, we will retain $20\\%$ data for testing."
   ]
  },
  {
   "cell_type": "code",
   "execution_count": 145,
   "metadata": {
    "collapsed": true
   },
   "outputs": [],
   "source": [
    "# Importing the module\n",
    "from sklearn.model_selection import train_test_split\n",
    "\n",
    "# Write code for splitting the data into train and test sets.\n",
    "# Hint: use \"train_test_split\" on X and y, and test size should be 0.2 (20%)\n",
    "X_train,X_test,y_train,y_test = train_test_split(X, y, test_size=0.2) "
   ]
  },
  {
   "cell_type": "markdown",
   "metadata": {},
   "source": [
    "### LinearRegression\n",
    "\n",
    "Train a LinearRegression model.\n",
    "1. Create an instance of `LinearRegression` of `sklearn`.\n",
    "1. Use training set `X_train` and `y_train` to fit.\n",
    "2. Use test set `X_test` and `y_test` to measure $R^2$ using `score` method."
   ]
  },
  {
   "cell_type": "code",
   "execution_count": 146,
   "metadata": {},
   "outputs": [
    {
     "name": "stdout",
     "output_type": "stream",
     "text": [
      "Linear Regression R2 =  0.897312222055\n"
     ]
    }
   ],
   "source": [
    "# Write code to import LinearRegression from sklearn\n",
    "from sklearn.linear_model import LinearRegression \n",
    "\n",
    "lin_reg = LinearRegression() \n",
    "lin_reg.fit(X_train, y_train)\n",
    "\n",
    "R2 = lin_reg.score(X_test, y_test) \n",
    "print(\"Linear Regression R2 = \", R2)"
   ]
  },
  {
   "cell_type": "markdown",
   "metadata": {},
   "source": [
    "#### Visualizing the forecasted values\n",
    "\n",
    "We will use native [**`matplotlib.pyplot.plot()`**](https://matplotlib.org/api/_as_gen/matplotlib.pyplot.plot.html) method to plot original `y_test` against `y_predicted`.\n",
    "\n",
    "**Note**: X axis points are to be generated for plotting. It is simply range of integers `1...len(y_test)`. "
   ]
  },
  {
   "cell_type": "code",
   "execution_count": 152,
   "metadata": {},
   "outputs": [
    {
     "data": {
      "text/plain": [
       "[<matplotlib.lines.Line2D at 0x7fd896cdd208>]"
      ]
     },
     "execution_count": 152,
     "metadata": {},
     "output_type": "execute_result"
    },
    {
     "data": {
      "image/png": "[encoded data removed]",
      "text/plain": [
       "<matplotlib.figure.Figure at 0x7fd896e806d8>"
      ]
     },
     "metadata": {},
     "output_type": "display_data"
    }
   ],
   "source": [
    "# Write code to predict values for test set using LinearREgression.predict() method.\n",
    "y_predicted = lin_reg.predict(X_test) \n",
    "\n",
    "# Generating x-axis points\n",
    "x_points = np.arange(y_test.shape[0])\n",
    "\n",
    "# Write code to visualize y_test and y_predicted in a single plot\n",
    "# Hint 1: use matplotlib.pyplot.plot() method\n",
    "# Hint 2: choose different colors for 2 curves\n",
    "plt.plot(x_points, y_test[:,0], \"b--\") \n",
    "plt.plot(x_points, y_predicted[:,0], \"r--\") "
   ]
  },
  {
   "cell_type": "markdown",
   "metadata": {},
   "source": [
    "### Multistepahead Forecasting: $T' > 1$\n",
    "\n",
    "Let's repeat the above procedure for forecast horizon $4$, i.e. to predict values till next $4$ time stamps.\n",
    "\n",
    "Python Scikit-Learn provides a *wrapper* module called [**`MultiOutputRegressor`**](http://scikit-learn.org/stable/modules/generated/sklearn.multioutput.MultiOutputRegressor.html) for multi target regression. You can pass it a standard `sklearn` regressor instance directly, which will be used as a base.\n",
    "\n",
    "We will use it with `LinearRegression` and `RandomForestRegressor`"
   ]
  },
  {
   "cell_type": "code",
   "execution_count": 141,
   "metadata": {
    "collapsed": true
   },
   "outputs": [],
   "source": [
    "# Write code to generate X and y matrices.\n",
    "#     This time set history to 20 and horizon to 4\n",
    "history, horizon = 20, 4 \n",
    "X, y = regression_matrix(temperature, history, horizon) \n",
    "\n",
    "# Write code for splitting the data into train and test sets.# TO DELETE"
   ]
  },
  {
   "cell_type": "markdown",
   "metadata": {},
   "source": [
    "#### Multi target regression using LinearRegression"
   ]
  },
  {
   "cell_type": "code",
   "execution_count": 142,
   "metadata": {},
   "outputs": [
    {
     "name": "stdout",
     "output_type": "stream",
     "text": [
      "Linear Regression R2 =  0.834263590103\n"
     ]
    }
   ],
   "source": [
    "# Write code to import MultiOutputRegressor module\n",
    "from sklearn.multioutput import MultiOutputRegressor \n",
    "\n",
    "# Write code to train a MultiOutputRegressor model using LinearRegression.\n",
    "#    Test its performance on the test set\n",
    "lin_reg = MultiOutputRegressor(LinearRegression()) \n",
    "lin_reg.fit(X_train, y_train) \n",
    "lin_reg_R2 = lin_reg.score(X_test, y_test) \n",
    "\n",
    "print(\"Linear Regression R2 = \", lin_reg_R2)"
   ]
  },
  {
   "cell_type": "markdown",
   "metadata": {},
   "source": [
    "#### Multi target regression using RandomForestRegressor"
   ]
  },
  {
   "cell_type": "code",
   "execution_count": 143,
   "metadata": {},
   "outputs": [
    {
     "name": "stdout",
     "output_type": "stream",
     "text": [
      "Random Forest Regressor R2 =  0.827441322834\n"
     ]
    }
   ],
   "source": [
    "# Write code to import necessary module for RandomForestRegressor\n",
    "from sklearn.ensemble import RandomForestRegressor \n",
    "\n",
    "# Write code to train a MultiOutputRegressor model using RandomForestRegressor.\n",
    "#    Test its performance on the test set\n",
    "rfr = MultiOutputRegressor(RandomForestRegressor()) \n",
    "rfr.fit(X_train, y_train) \n",
    "rfr_R2 = rfr.score(X_test, y_test) \n",
    "\n",
    "print(\"Random Forest Regressor R2 = \", rfr_R2)"
   ]
  },
  {
   "cell_type": "code",
   "execution_count": null,
   "metadata": {
    "collapsed": true
   },
   "outputs": [],
   "source": []
  }
 ],
 "metadata": {
  "kernelspec": {
   "display_name": "Python 3",
   "language": "python",
   "name": "python3"
  },
  "language_info": {
   "codemirror_mode": {
    "name": "ipython",
    "version": 3
   },
   "file_extension": ".py",
   "mimetype": "text/x-python",
   "name": "python",
   "nbconvert_exporter": "python",
   "pygments_lexer": "ipython3",
   "version": "3.6.2"
  }
 },
 "nbformat": 4,
 "nbformat_minor": 2
}
