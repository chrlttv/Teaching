{
 "cells": [
  {
   "cell_type": "markdown",
   "metadata": {},
   "source": [
    "# Machine Learning: Regression\n",
    "\n",
    "Supervised Machine Learning algorithms consist of target / outcome variable (or dependent variable) which is to be predicted from a given set of features/predictors (independent variables). Using these set of features, we generate a function that map inputs to desired outputs. The training process continues until the model achieves a desired level of accuracy/performance score on the training data. An supervised learning problem is called **Regression** where the output variable is *continuous valued*.\n",
    "\n",
    "\n",
    "## Objective of this notebook\n",
    "\n",
    "In this notebook you will explore machine learning regression with Python Scikit-Learn library.\n",
    "\n",
    "For questions, comments and suggestions, please contact parantapa[dot]goswami[at]viseo[dot]com\n",
    "\n",
    "## Import basic libraries\n",
    "Initially we require:\n",
    "1. pandas: to store data efficiently\n",
    "2. numpy: to matrix operations\n",
    "3. matplotlib.pyplot: for data visualization"
   ]
  },
  {
   "cell_type": "code",
   "execution_count": 1,
   "metadata": {
    "collapsed": true
   },
   "outputs": [],
   "source": [
    "# Write code to import required libraries\n",
    "import numpy as np \n",
    "import pandas as pd \n",
    "import matplotlib.pyplot as plt \n",
    "\n",
    "# For visualzing plots in this notebook\n",
    "%matplotlib inline"
   ]
  },
  {
   "cell_type": "markdown",
   "metadata": {},
   "source": [
    "## Housing Price Dataset\n",
    "\n",
    "This small dataset is a collection of housing prices in Portland, Oregan, USA. It contains collected information on some houses sold and the prices.\n",
    "\n",
    "Each house is described with following features:\n",
    "1. size of the house in square feet\n",
    "2. number of bedrooms\n",
    "\n",
    "House prices are in US dollars.\n",
    "\n",
    "### Importing the data\n",
    "The data is provided in the file **`housing_price.txt`**. Use `read_csv()` module from pandas to import the data."
   ]
  },
  {
   "cell_type": "code",
   "execution_count": 2,
   "metadata": {
    "scrolled": true
   },
   "outputs": [
    {
     "data": {
      "text/html": [
       "<div>\n",
       "<style>\n",
       "    .dataframe thead tr:only-child th {\n",
       "        text-align: right;\n",
       "    }\n",
       "\n",
       "    .dataframe thead th {\n",
       "        text-align: left;\n",
       "    }\n",
       "\n",
       "    .dataframe tbody tr th {\n",
       "        vertical-align: top;\n",
       "    }\n",
       "</style>\n",
       "<table border=\"1\" class=\"dataframe\">\n",
       "  <thead>\n",
       "    <tr style=\"text-align: right;\">\n",
       "      <th></th>\n",
       "      <th>Area</th>\n",
       "      <th>Bedrooms</th>\n",
       "      <th>Price</th>\n",
       "    </tr>\n",
       "  </thead>\n",
       "  <tbody>\n",
       "    <tr>\n",
       "      <th>0</th>\n",
       "      <td>2104</td>\n",
       "      <td>3</td>\n",
       "      <td>399900</td>\n",
       "    </tr>\n",
       "    <tr>\n",
       "      <th>1</th>\n",
       "      <td>1600</td>\n",
       "      <td>3</td>\n",
       "      <td>329900</td>\n",
       "    </tr>\n",
       "    <tr>\n",
       "      <th>2</th>\n",
       "      <td>2400</td>\n",
       "      <td>3</td>\n",
       "      <td>369000</td>\n",
       "    </tr>\n",
       "    <tr>\n",
       "      <th>3</th>\n",
       "      <td>1416</td>\n",
       "      <td>2</td>\n",
       "      <td>232000</td>\n",
       "    </tr>\n",
       "    <tr>\n",
       "      <th>4</th>\n",
       "      <td>3000</td>\n",
       "      <td>4</td>\n",
       "      <td>539900</td>\n",
       "    </tr>\n",
       "  </tbody>\n",
       "</table>\n",
       "</div>"
      ],
      "text/plain": [
       "   Area  Bedrooms   Price\n",
       "0  2104         3  399900\n",
       "1  1600         3  329900\n",
       "2  2400         3  369000\n",
       "3  1416         2  232000\n",
       "4  3000         4  539900"
      ]
     },
     "execution_count": 2,
     "metadata": {},
     "output_type": "execute_result"
    }
   ],
   "source": [
    "# We start by importing the data using pandas\n",
    "# Hint: use \"read_csv\" method, Note that comma (\",\") is the field separator, and we have no \"header\"\n",
    "housing = pd.read_csv('housing_price.txt', sep=\",\", header=None) \n",
    "\n",
    "# We name the columns based on above features\n",
    "housing.columns = [\"Area\", \"Bedrooms\", \"Price\"]\n",
    "\n",
    "# We sneak peek into the data\n",
    "# Hint: use dataframe \"head\" method with \"n\" parameter\n",
    "housing.head(n=5) "
   ]
  },
  {
   "cell_type": "markdown",
   "metadata": {},
   "source": [
    "### Statistical summary of the data\n",
    "Sometimes it is better to have a statistical summary of the data at hand. Use **`DataFrame.describe()`** to get a summary of the data with various statistical quantities."
   ]
  },
  {
   "cell_type": "code",
   "execution_count": 3,
   "metadata": {},
   "outputs": [
    {
     "data": {
      "text/html": [
       "<div>\n",
       "<style>\n",
       "    .dataframe thead tr:only-child th {\n",
       "        text-align: right;\n",
       "    }\n",
       "\n",
       "    .dataframe thead th {\n",
       "        text-align: left;\n",
       "    }\n",
       "\n",
       "    .dataframe tbody tr th {\n",
       "        vertical-align: top;\n",
       "    }\n",
       "</style>\n",
       "<table border=\"1\" class=\"dataframe\">\n",
       "  <thead>\n",
       "    <tr style=\"text-align: right;\">\n",
       "      <th></th>\n",
       "      <th>Area</th>\n",
       "      <th>Bedrooms</th>\n",
       "      <th>Price</th>\n",
       "    </tr>\n",
       "  </thead>\n",
       "  <tbody>\n",
       "    <tr>\n",
       "      <th>count</th>\n",
       "      <td>47.000000</td>\n",
       "      <td>47.000000</td>\n",
       "      <td>47.000000</td>\n",
       "    </tr>\n",
       "    <tr>\n",
       "      <th>mean</th>\n",
       "      <td>2000.680851</td>\n",
       "      <td>3.170213</td>\n",
       "      <td>340412.659574</td>\n",
       "    </tr>\n",
       "    <tr>\n",
       "      <th>std</th>\n",
       "      <td>794.702354</td>\n",
       "      <td>0.760982</td>\n",
       "      <td>125039.899586</td>\n",
       "    </tr>\n",
       "    <tr>\n",
       "      <th>min</th>\n",
       "      <td>852.000000</td>\n",
       "      <td>1.000000</td>\n",
       "      <td>169900.000000</td>\n",
       "    </tr>\n",
       "    <tr>\n",
       "      <th>25%</th>\n",
       "      <td>1432.000000</td>\n",
       "      <td>3.000000</td>\n",
       "      <td>249900.000000</td>\n",
       "    </tr>\n",
       "    <tr>\n",
       "      <th>50%</th>\n",
       "      <td>1888.000000</td>\n",
       "      <td>3.000000</td>\n",
       "      <td>299900.000000</td>\n",
       "    </tr>\n",
       "    <tr>\n",
       "      <th>75%</th>\n",
       "      <td>2269.000000</td>\n",
       "      <td>4.000000</td>\n",
       "      <td>384450.000000</td>\n",
       "    </tr>\n",
       "    <tr>\n",
       "      <th>max</th>\n",
       "      <td>4478.000000</td>\n",
       "      <td>5.000000</td>\n",
       "      <td>699900.000000</td>\n",
       "    </tr>\n",
       "  </tbody>\n",
       "</table>\n",
       "</div>"
      ],
      "text/plain": [
       "              Area   Bedrooms          Price\n",
       "count    47.000000  47.000000      47.000000\n",
       "mean   2000.680851   3.170213  340412.659574\n",
       "std     794.702354   0.760982  125039.899586\n",
       "min     852.000000   1.000000  169900.000000\n",
       "25%    1432.000000   3.000000  249900.000000\n",
       "50%    1888.000000   3.000000  299900.000000\n",
       "75%    2269.000000   4.000000  384450.000000\n",
       "max    4478.000000   5.000000  699900.000000"
      ]
     },
     "execution_count": 3,
     "metadata": {},
     "output_type": "execute_result"
    }
   ],
   "source": [
    "# Write code to get a summary of the data\n",
    "# Hint: use \"DataFrame.describe()\" on our dataframe housing\n",
    "housing.describe() "
   ]
  },
  {
   "cell_type": "markdown",
   "metadata": {},
   "source": [
    "### Visualize the data\n",
    "Initially, we will use only **Area** to predict **Price**. So, it is recommended to visualize **Area** against **Price**.\n",
    "\n",
    "As, we wish to see correlation between two continuous variables, we will use scatter plot."
   ]
  },
  {
   "cell_type": "code",
   "execution_count": 4,
   "metadata": {},
   "outputs": [
    {
     "data": {
      "text/plain": [
       "<matplotlib.axes._subplots.AxesSubplot at 0x1129d1898>"
      ]
     },
     "execution_count": 4,
     "metadata": {},
     "output_type": "execute_result"
    },
    {
     "data": {
      "image/png": "[encoded data removed]",
      "text/plain": [
       "<matplotlib.figure.Figure at 0x1129d1128>"
      ]
     },
     "metadata": {},
     "output_type": "display_data"
    }
   ],
   "source": [
    "# Write code to create Scatter Plot between \"Area\" and \"Price\"\n",
    "# Hint: use \"DataFrame.plot.scatter()\" on our dataframe housing,\n",
    "#       mention the \"x\" and \"y\" axis features\n",
    "housing.plot.scatter(x=\"Area\", y=\"Price\") "
   ]
  },
  {
   "cell_type": "markdown",
   "metadata": {},
   "source": [
    "## Training a Univariate Linear Regression Model\n",
    "You will now train a Linear Regression model using \"Area\" feature to predict \"Price\".\n",
    "\n",
    "**Note**: All machine learning algorithm implementations work efficiently with numpy matrices and arrays. The current format of our data is pandas dataframes. Fortunately, pandas provides [**`DataFrame.as_matrix()`**](https://pandas.pydata.org/pandas-docs/stable/generated/pandas.DataFrame.as_matrix.html) method to convert dataframes to numpy arrays. It accepts `columns` attribute to convert only certain columns of the dataframe.\n",
    "\n",
    "**Question**: What is your input **`X`** here? What is your output **`y`** here?"
   ]
  },
  {
   "cell_type": "code",
   "execution_count": 5,
   "metadata": {
    "collapsed": true
   },
   "outputs": [],
   "source": [
    "# Write code to convert desired dataframe columns into numpy arrays\n",
    "# Hint: \"columns\" atttribute of DataFrame.as_matrix() accepts only list.\n",
    "#       Even if you wish to select only one column, you have to pass it in a list.\n",
    "X = housing.as_matrix(columns=[\"Area\"]) \n",
    "y = housing.as_matrix(columns=[\"Price\"])"
   ]
  },
  {
   "cell_type": "markdown",
   "metadata": {},
   "source": [
    "Using the following step, train a Linear Regression model on housing price dataset:\n",
    "1. import [**`LinearRegression`**](http://scikit-learn.org/stable/modules/generated/sklearn.linear_model.LinearRegression.html) module from `sklearn`\n",
    "2. create an instance of `LinearRegression` and fit with the X and y arrays you created"
   ]
  },
  {
   "cell_type": "code",
   "execution_count": 6,
   "metadata": {},
   "outputs": [
    {
     "data": {
      "text/plain": [
       "LinearRegression(copy_X=True, fit_intercept=True, n_jobs=1, normalize=False)"
      ]
     },
     "execution_count": 6,
     "metadata": {},
     "output_type": "execute_result"
    }
   ],
   "source": [
    "# Write code to learn a linear regression model on housing price dataset\n",
    "from sklearn.linear_model import LinearRegression # TO DELETE\n",
    "\n",
    "lin_reg = LinearRegression() \n",
    "lin_reg.fit(X, y) "
   ]
  },
  {
   "cell_type": "markdown",
   "metadata": {},
   "source": [
    "Use your trained `LinearRegression` model to predict on the same dataset (i.e. \"Area\" features stored as numpy array `X`). Also calculate **Mean Squared Error** using the [`mean_squared_error()`](http://scikit-learn.org/stable/modules/generated/sklearn.metrics.mean_squared_error.html) method from `sklearn` library."
   ]
  },
  {
   "cell_type": "code",
   "execution_count": 7,
   "metadata": {},
   "outputs": [
    {
     "name": "stdout",
     "output_type": "stream",
     "text": [
      "MSE =  4116265480.87\n"
     ]
    }
   ],
   "source": [
    "# Write code to predict prices using the trained LinearRegression\n",
    "y_predicted = lin_reg.predict(X) \n",
    "\n",
    "# Importing modules to calculate MSE\n",
    "from sklearn.metrics import mean_squared_error\n",
    "\n",
    "# Write code to calculate and print the MSE on the predicted values.\n",
    "# Hint 1: use \"mean_squared_error()\" method\n",
    "# Hint 2: you have to pass both original y and predicted y to compute the MSE.\n",
    "mse = mean_squared_error(y, y_predicted) \n",
    "print(\"MSE = \", mse)"
   ]
  },
  {
   "cell_type": "markdown",
   "metadata": {},
   "source": [
    "**Question**: Why such a huge MSE?\n",
    "\n",
    "Use **`LinearRegression.score()`** method to get **coefficient of determination $R^2$ of the prediction**. It is calculated based on MSE. The best possible score is $1.0$ and it can be negative (because the model can be arbitrarily worse). A constant model that always predicts the expected value of $y$, disregarding the input features, would get a $R^2$ score of $0.0$.\n",
    "\n",
    "**<font color=red>Warning</font>**: You need to pass input matrix X and **original** output y to `score()` method. This method first performs testing with the trained model and then calculates the $R^2$ score."
   ]
  },
  {
   "cell_type": "code",
   "execution_count": 8,
   "metadata": {},
   "outputs": [
    {
     "name": "stdout",
     "output_type": "stream",
     "text": [
      "R2 =  0.731003783976\n"
     ]
    }
   ],
   "source": [
    "# Write code to get coefficient of determination using \"score()\"\n",
    "# Hint: you have to pass both X and original y to score()\n",
    "R2 = lin_reg.score(X, y) \n",
    "print(\"R2 = \", R2)"
   ]
  },
  {
   "cell_type": "markdown",
   "metadata": {},
   "source": [
    "Now, we will visualize the predicted prices along with the actual data.\n",
    "\n",
    "**Note**: `DataFrame.plot.scatter()` returns a `axes` object. You can use that `axes` object to add more visualizations to the same plot."
   ]
  },
  {
   "cell_type": "code",
   "execution_count": 9,
   "metadata": {},
   "outputs": [
    {
     "data": {
      "text/plain": [
       "[<matplotlib.lines.Line2D at 0x118112f60>]"
      ]
     },
     "execution_count": 9,
     "metadata": {},
     "output_type": "execute_result"
    },
    {
     "data": {
      "image/png": "[encoded data removed]",
      "text/plain": [
       "<matplotlib.figure.Figure at 0x11812f0b8>"
      ]
     },
     "metadata": {},
     "output_type": "display_data"
    }
   ],
   "source": [
    "# Write code to create a scatter plot with the data as above.\n",
    "#       Then add the best line to that.\n",
    "# Hint 1: store the returned \"axes\" object and then use \"axes.plot()\"\n",
    "#         to plot the best_line\n",
    "# Hint 2: \"axes.plot()\" takes the X and the y_predicted arrays\n",
    "ax = housing.plot.scatter(x=\"Area\", y=\"Price\") \n",
    "ax.plot(X, y_predicted, \"r\") "
   ]
  },
  {
   "cell_type": "markdown",
   "metadata": {},
   "source": [
    "## Training a Multivariate Linear Regression Model\n",
    "\n",
    "You will now train a Linear Regression model using both \"Area\" and \"Bedrooms\" features to predict \"Price\".\n",
    "\n",
    "**Question**: What is your input X here? What is your output y here?\n",
    "\n",
    "Note that only your input changes. Nothing else changes in your implmentation."
   ]
  },
  {
   "cell_type": "code",
   "execution_count": 10,
   "metadata": {},
   "outputs": [
    {
     "name": "stdout",
     "output_type": "stream",
     "text": [
      "R2 =  0.732945018029\n"
     ]
    }
   ],
   "source": [
    "# Write code to convert desired dataframe columns into numpy arrays\n",
    "X = housing.as_matrix(columns=[\"Area\",\"Bedrooms\"]) \n",
    "y = housing.as_matrix(columns=[\"Price\"]) \n",
    "\n",
    "# Write code to train a LinearRegression model\n",
    "lin_reg = LinearRegression() \n",
    "lin_reg.fit(X, y) \n",
    "\n",
    "# Write code to calculate and print the MSE\n",
    "R2 = lin_reg.score(X, y) \n",
    "print(\"R2 = \", R2)"
   ]
  },
  {
   "cell_type": "markdown",
   "metadata": {},
   "source": [
    "### Homework"
   ]
  },
  {
   "cell_type": "code",
   "execution_count": 14,
   "metadata": {},
   "outputs": [
    {
     "data": {
      "text/plain": [
       "<matplotlib.text.Text at 0x7fe97a6d6f28>"
      ]
     },
     "execution_count": 14,
     "metadata": {},
     "output_type": "execute_result"
    },
    {
     "data": {
      "image/png": "[encoded data removed]",
      "text/plain": [
       "<matplotlib.figure.Figure at 0x7fe97a7608d0>"
      ]
     },
     "metadata": {},
     "output_type": "display_data"
    }
   ],
   "source": [
    "# Write code to create a 3D scatter plot for \"Area\", \"Bedroom\" and actual \"Price\"\n",
    "# Then add visualization of \"Area\" and \"Bedroom\" against the predicted price.\n",
    "from mpl_toolkits.mplot3d import Axes3D\n",
    "\n",
    "y_pred = lin_reg.predict(X)\n",
    "fig_scatter = plt.figure() \n",
    "ax = fig_scatter.add_subplot(111, projection='3d') \n",
    "ax.scatter(housing[\"Area\"], housing[\"Bedrooms\"], housing[\"Price\"]) \n",
    "ax.scatter(housing[\"Area\"], housing[\"Bedrooms\"], y_pred)\n",
    "\n",
    "ax.set_xlabel(\"Area\") \n",
    "ax.set_ylabel(\"Bedrooms\") \n",
    "ax.set_zlabel(\"Price\") "
   ]
  },
  {
   "cell_type": "markdown",
   "metadata": {},
   "source": [
    "# Supplementary Material\n",
    "\n",
    "This portion of the notebook is for your own practice. Do not hesitate to contact me for any question.\n",
    "\n",
    "\n",
    "## Energy Efficiency Dataset \n",
    "\n",
    "This dataset poses the regression problem of predicting heating load of different buildings. More details of this dataset can be found in [this link](https://archive.ics.uci.edu/ml/datasets/Energy+efficiency). The buildings are described using following 8 features:\n",
    "1. Relative Compactness \n",
    "2. Surface Area \n",
    "3. Wall Area \n",
    "4. Roof Area \n",
    "5. Overall Height \n",
    "6. Orientation \n",
    "7. Glazing Area \n",
    "8. Glazing Area Distribution\n",
    "\n",
    "### Import the data\n",
    "The data is provided in the file **energy_efficiency.csv**. Like before, use read_csv() module from pandas to import the data."
   ]
  },
  {
   "cell_type": "code",
   "execution_count": 15,
   "metadata": {},
   "outputs": [
    {
     "data": {
      "text/html": [
       "<div>\n",
       "<style>\n",
       "    .dataframe thead tr:only-child th {\n",
       "        text-align: right;\n",
       "    }\n",
       "\n",
       "    .dataframe thead th {\n",
       "        text-align: left;\n",
       "    }\n",
       "\n",
       "    .dataframe tbody tr th {\n",
       "        vertical-align: top;\n",
       "    }\n",
       "</style>\n",
       "<table border=\"1\" class=\"dataframe\">\n",
       "  <thead>\n",
       "    <tr style=\"text-align: right;\">\n",
       "      <th></th>\n",
       "      <th>Compactness</th>\n",
       "      <th>Surface</th>\n",
       "      <th>Wall</th>\n",
       "      <th>Roof</th>\n",
       "      <th>Heiht</th>\n",
       "      <th>Orientation</th>\n",
       "      <th>Glazing</th>\n",
       "      <th>GlazingDist</th>\n",
       "      <th>Heating</th>\n",
       "    </tr>\n",
       "  </thead>\n",
       "  <tbody>\n",
       "    <tr>\n",
       "      <th>0</th>\n",
       "      <td>0.98</td>\n",
       "      <td>514.5</td>\n",
       "      <td>294.0</td>\n",
       "      <td>110.25</td>\n",
       "      <td>7.0</td>\n",
       "      <td>2</td>\n",
       "      <td>0.0</td>\n",
       "      <td>0</td>\n",
       "      <td>15.55</td>\n",
       "    </tr>\n",
       "    <tr>\n",
       "      <th>1</th>\n",
       "      <td>0.98</td>\n",
       "      <td>514.5</td>\n",
       "      <td>294.0</td>\n",
       "      <td>110.25</td>\n",
       "      <td>7.0</td>\n",
       "      <td>3</td>\n",
       "      <td>0.0</td>\n",
       "      <td>0</td>\n",
       "      <td>15.55</td>\n",
       "    </tr>\n",
       "    <tr>\n",
       "      <th>2</th>\n",
       "      <td>0.98</td>\n",
       "      <td>514.5</td>\n",
       "      <td>294.0</td>\n",
       "      <td>110.25</td>\n",
       "      <td>7.0</td>\n",
       "      <td>4</td>\n",
       "      <td>0.0</td>\n",
       "      <td>0</td>\n",
       "      <td>15.55</td>\n",
       "    </tr>\n",
       "    <tr>\n",
       "      <th>3</th>\n",
       "      <td>0.98</td>\n",
       "      <td>514.5</td>\n",
       "      <td>294.0</td>\n",
       "      <td>110.25</td>\n",
       "      <td>7.0</td>\n",
       "      <td>5</td>\n",
       "      <td>0.0</td>\n",
       "      <td>0</td>\n",
       "      <td>15.55</td>\n",
       "    </tr>\n",
       "    <tr>\n",
       "      <th>4</th>\n",
       "      <td>0.90</td>\n",
       "      <td>563.5</td>\n",
       "      <td>318.5</td>\n",
       "      <td>122.50</td>\n",
       "      <td>7.0</td>\n",
       "      <td>2</td>\n",
       "      <td>0.0</td>\n",
       "      <td>0</td>\n",
       "      <td>20.84</td>\n",
       "    </tr>\n",
       "  </tbody>\n",
       "</table>\n",
       "</div>"
      ],
      "text/plain": [
       "   Compactness  Surface   Wall    Roof  Heiht  Orientation  Glazing  \\\n",
       "0         0.98    514.5  294.0  110.25    7.0            2      0.0   \n",
       "1         0.98    514.5  294.0  110.25    7.0            3      0.0   \n",
       "2         0.98    514.5  294.0  110.25    7.0            4      0.0   \n",
       "3         0.98    514.5  294.0  110.25    7.0            5      0.0   \n",
       "4         0.90    563.5  318.5  122.50    7.0            2      0.0   \n",
       "\n",
       "   GlazingDist  Heating  \n",
       "0            0    15.55  \n",
       "1            0    15.55  \n",
       "2            0    15.55  \n",
       "3            0    15.55  \n",
       "4            0    20.84  "
      ]
     },
     "execution_count": 15,
     "metadata": {},
     "output_type": "execute_result"
    }
   ],
   "source": [
    "# Write code to import the data using pandas\n",
    "# Hint: note that comma (\",\") is the field separator, and we have no \"header\"\n",
    "energy = pd.read_csv(\"energy_efficiency.csv\", sep=\",\", header=None) \n",
    "\n",
    "# We name the columns based on above features\n",
    "energy.columns = [\"Compactness\",\"Surface\",\"Wall\", \"Roof\", \"Heiht\",\n",
    "              \"Orientation\",\"Glazing\",\"GlazingDist\", \"Heating\"]\n",
    "\n",
    "# We sneak peek into the data\n",
    "# Hint: use dataframe \"head\" method with \"n\" parameter\n",
    "energy.head(n=5) "
   ]
  },
  {
   "cell_type": "markdown",
   "metadata": {},
   "source": [
    "## Regression Models on Energy Efficiency Dataset\n",
    "\n",
    "In this section, we will train various regression models on the Energy Efficiency Dataset. We will measure the performances in terms of $R^2$ and compare their performances.\n",
    "\n",
    "### Inputs and Outputs\n",
    "\n",
    "First, identify the inputs and outputs, and convert them to numpy matrices."
   ]
  },
  {
   "cell_type": "code",
   "execution_count": 16,
   "metadata": {
    "collapsed": true
   },
   "outputs": [],
   "source": [
    "# Write code to convert desired dataframe columns into numpy arrays\n",
    "X = energy.as_matrix(columns=[\"Compactness\",\"Surface\",\"Wall\", \"Roof\", \"Heiht\",\n",
    "                            \"Orientation\",\"Glazing\",\"GlazingDist\"]) \n",
    "y = energy.as_matrix(columns=[\"Heating\"]) "
   ]
  },
  {
   "cell_type": "markdown",
   "metadata": {},
   "source": [
    "### Training Set and Testing Set\n",
    "\n",
    "A portion of the dataset is to be set aside to be used only for testing. Fortunately `sklearn` provides a [**`train_test_split()`**](http://scikit-learn.org/stable/modules/generated/sklearn.model_selection.train_test_split.html) module to do that. You can specify a ratio for `test_size` parameter. \n",
    "\n",
    "In this exercise, we will retain $20\\%$ data for testing."
   ]
  },
  {
   "cell_type": "code",
   "execution_count": 17,
   "metadata": {
    "collapsed": true
   },
   "outputs": [],
   "source": [
    "# Importing the module\n",
    "from sklearn.model_selection import train_test_split\n",
    "\n",
    "# Write code for splitting the data into train and test sets.\n",
    "# Hint: use \"train_test_split\" on X and y, and test size should be 0.2 (20%)\n",
    "X_train,X_test,y_train,y_test = train_test_split(X, y, test_size=0.2)"
   ]
  },
  {
   "cell_type": "markdown",
   "metadata": {},
   "source": [
    "### LinearRegression\n",
    "\n",
    "Train a LinearRegression model.\n",
    "1. Create an instance of LinearRegression of sklearn\n",
    "1. Use training set `X_train` and `y_train` to fit.\n",
    "2. Use test set `X_test` and `y_test` to measure $R^2$ using `score` method."
   ]
  },
  {
   "cell_type": "code",
   "execution_count": 21,
   "metadata": {},
   "outputs": [
    {
     "name": "stdout",
     "output_type": "stream",
     "text": [
      "Linear Regression R2 =  0.915218668108\n"
     ]
    }
   ],
   "source": [
    "# Write code to train a Linear Regression model and to test its performance on the test set\n",
    "lin_reg = LinearRegression() \n",
    "lin_reg.fit(X_train, y_train) \n",
    "lin_reg_R2 = lin_reg.score(X_test, y_test) \n",
    "\n",
    "print(\"Linear Regression R2 = \", lin_reg_R2)"
   ]
  },
  {
   "cell_type": "markdown",
   "metadata": {},
   "source": [
    "### Support Vector Regression (SVR)\n",
    "\n",
    "Use [**`SVR`**](http://scikit-learn.org/stable/modules/generated/sklearn.svm.SVR.html) module from `sklearn`."
   ]
  },
  {
   "cell_type": "code",
   "execution_count": 22,
   "metadata": {},
   "outputs": [
    {
     "name": "stdout",
     "output_type": "stream",
     "text": [
      "Support Vector Regression R2 =  0.868650279485\n"
     ]
    },
    {
     "name": "stderr",
     "output_type": "stream",
     "text": [
      "/usr/local/lib/python3.5/dist-packages/sklearn/utils/validation.py:526: DataConversionWarning: A column-vector y was passed when a 1d array was expected. Please change the shape of y to (n_samples, ), for example using ravel().\n",
      "  y = column_or_1d(y, warn=True)\n"
     ]
    }
   ],
   "source": [
    "# Write code to import necessary module for SVR\n",
    "from sklearn.svm import SVR \n",
    "\n",
    "# Write code to train a SVR model and to test its performance on the test set\n",
    "svr = SVR() # TO DELETE\n",
    "svr.fit(X_train, y_train) \n",
    "svr_R2 = svr.score(X_test, y_test) \n",
    "\n",
    "print(\"Support Vector Regression R2 = \", svr_R2)"
   ]
  },
  {
   "cell_type": "markdown",
   "metadata": {},
   "source": [
    "### Random Forest Regressor\n",
    "\n",
    "Use [**`RandomForestRegressor`**](http://scikit-learn.org/stable/modules/generated/sklearn.ensemble.RandomForestRegressor.html) from `sklearn` library."
   ]
  },
  {
   "cell_type": "code",
   "execution_count": 23,
   "metadata": {},
   "outputs": [
    {
     "name": "stdout",
     "output_type": "stream",
     "text": [
      "Random Forest Regressor R2 =  0.997746422187\n"
     ]
    },
    {
     "name": "stderr",
     "output_type": "stream",
     "text": [
      "/usr/local/lib/python3.5/dist-packages/ipykernel_launcher.py:6: DataConversionWarning: A column-vector y was passed when a 1d array was expected. Please change the shape of y to (n_samples,), for example using ravel().\n",
      "  \n"
     ]
    }
   ],
   "source": [
    "# Write code to import necessary module for RandomForestRegressor\n",
    "from sklearn.ensemble import RandomForestRegressor \n",
    "\n",
    "# Write code to train a RandomForestRegressor model and to test its performance on the test set\n",
    "rfr = RandomForestRegressor() \n",
    "rfr.fit(X_train, y_train) \n",
    "rfr_R2 = rfr.score(X_test, y_test) \n",
    "\n",
    "print(\"Random Forest Regressor R2 = \", rfr_R2)"
   ]
  }
 ],
 "metadata": {
  "kernelspec": {
   "display_name": "Python 3",
   "language": "python",
   "name": "python3"
  },
  "language_info": {
   "codemirror_mode": {
    "name": "ipython",
    "version": 3
   },
   "file_extension": ".py",
   "mimetype": "text/x-python",
   "name": "python",
   "nbconvert_exporter": "python",
   "pygments_lexer": "ipython3",
   "version": "3.6.2"
  }
 },
 "nbformat": 4,
 "nbformat_minor": 2
}
